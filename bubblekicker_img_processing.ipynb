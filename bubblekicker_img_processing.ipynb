{
 "cells": [
  {
   "cell_type": "code",
   "execution_count": 1,
   "metadata": {
    "collapsed": true
   },
   "outputs": [],
   "source": [
    "import matplotlib.pyplot as plt\n",
    "\n",
    "from bubblekicker.bubblekicker import (BubbleKicker, batchbubblekicker, bubble_properties_calculate, \n",
    "                                       _bubble_properties_filter, bubble_properties_plot)\n",
    "\n",
    "from bubblekicker.pipelines import CannyPipeline, AdaptiveThresholdPipeline"
   ]
  },
  {
   "cell_type": "code",
   "execution_count": 11,
   "metadata": {
    "collapsed": false
   },
   "outputs": [],
   "source": [
    "path = r'C:\\Users\\Giacomo\\Desktop\\AerGranules/'\n",
    "imgname = 'IMG_0050.JPG'"
   ]
  },
  {
   "cell_type": "code",
   "execution_count": 13,
   "metadata": {
    "collapsed": false
   },
   "outputs": [
    {
     "name": "stdout",
     "output_type": "stream",
     "text": [
      "Steps undertaken since from raw image:\n",
      "edge-detect with thresholds 120 -> 180 - opencv\n",
      "dilate with footprintsize 3 - opencv\n",
      "fill holes - opencv\n",
      "clear border with buffer size 3 and bgval 1 -  skimage\n",
      "erode with footprintsize 1 - opencv\n",
      "\n",
      "\n"
     ]
    }
   ],
   "source": [
    "# CANNY PIPELINE\n",
    "bubbler = CannyPipeline(path + imgname, channel='red')\n",
    "result = bubbler.run([120, 180], 3, 3, 1, 1)\n",
    "# show the resulting image of the detected bubbles\n",
    "bubbler.plot()\n",
    "# show the individual steps performed to get this result\n",
    "bubbler.what_have_i_done()"
   ]
  },
  {
   "cell_type": "code",
   "execution_count": 4,
   "metadata": {
    "collapsed": false
   },
   "outputs": [
    {
     "name": "stdout",
     "output_type": "stream",
     "text": [
      "Steps undertaken since from raw image:\n",
      "adaptive threshold bubble detection with blocksize 91 and cvalue 18 - opencv\n",
      "clear border with buffer size 3 and bgval 1 -  skimage\n",
      "erode with footprintsize 1 - opencv\n",
      "\n",
      "\n"
     ]
    }
   ],
   "source": [
    "# ADAPTIVE THRESHOLD PIPELINE\n",
    "bubbler = AdaptiveThresholdPipeline(r'C:\\Users\\Giacomo\\Desktop\\AerGranules\\IMG_0050.JPG', channel='red')\n",
    "result = bubbler.run(91, 18, 3, 1, 1)\n",
    "# show the resulting image of the detected bubbles\n",
    "bubbler.plot()\n",
    "# show the individual steps performed to get this result\n",
    "bubbler.what_have_i_done()"
   ]
  },
  {
   "cell_type": "code",
   "execution_count": null,
   "metadata": {
    "collapsed": true
   },
   "outputs": [],
   "source": []
  }
 ],
 "metadata": {
  "anaconda-cloud": {},
  "kernelspec": {
   "display_name": "Python [conda env:bubble27]",
   "language": "python",
   "name": "conda-env-bubble27-py"
  },
  "language_info": {
   "codemirror_mode": {
    "name": "ipython",
    "version": 2
   },
   "file_extension": ".py",
   "mimetype": "text/x-python",
   "name": "python",
   "nbconvert_exporter": "python",
   "pygments_lexer": "ipython2",
   "version": "2.7.12"
  }
 },
 "nbformat": 4,
 "nbformat_minor": 1
}
