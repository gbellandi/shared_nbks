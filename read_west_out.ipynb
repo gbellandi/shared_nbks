{
 "cells": [
  {
   "cell_type": "code",
   "execution_count": 1,
   "metadata": {
    "collapsed": true
   },
   "outputs": [],
   "source": [
    "import pandas as pd\n",
    "import numpy as np\n",
    "import matplotlib as plt"
   ]
  },
  {
   "cell_type": "code",
   "execution_count": 9,
   "metadata": {
    "collapsed": false,
    "scrolled": true
   },
   "outputs": [],
   "source": [
    "westOut = pd.read_csv(r'C:\\Users\\Public\\Documents\\DHI\\WEST\\data\\projects\\EHV_N2O\\WEST16_DRYW_N2O\\Eindhoven.Steady State.Simul.out.txt', \n",
    "            sep='\\t', header=0)"
   ]
  },
  {
   "cell_type": "code",
   "execution_count": 10,
   "metadata": {
    "collapsed": false
   },
   "outputs": [
    {
     "data": {
      "text/html": [
       "<div>\n",
       "<table border=\"1\" class=\"dataframe\">\n",
       "  <thead>\n",
       "    <tr style=\"text-align: right;\">\n",
       "      <th></th>\n",
       "      <th>#.t</th>\n",
       "      <th>.A_ZP.Emission_CO2</th>\n",
       "      <th>.Aer_Anox_ZP.C(S_N2O)</th>\n",
       "      <th>.Aer_Anox_ZP.FluxN2O_gas</th>\n",
       "      <th>.Aer_Anox_ZP.Kinetics(AnGrowthHeteroOnSaNO_N2O)</th>\n",
       "      <th>.Aer_Anox_ZP.Kinetics(StrippingN2O)</th>\n",
       "      <th>.Influent_Quality.Q_In</th>\n",
       "      <th>.array_effluent.Q_In</th>\n",
       "    </tr>\n",
       "  </thead>\n",
       "  <tbody>\n",
       "    <tr>\n",
       "      <th>0</th>\n",
       "      <td>#d</td>\n",
       "      <td>g</td>\n",
       "      <td>g/m3</td>\n",
       "      <td>g/d</td>\n",
       "      <td>NaN</td>\n",
       "      <td>NaN</td>\n",
       "      <td>NaN</td>\n",
       "      <td>NaN</td>\n",
       "    </tr>\n",
       "    <tr>\n",
       "      <th>1</th>\n",
       "      <td>0</td>\n",
       "      <td>14508324</td>\n",
       "      <td>0.046012819</td>\n",
       "      <td>92803.708</td>\n",
       "      <td>0.283327</td>\n",
       "      <td>-5.764206</td>\n",
       "      <td>91727.244</td>\n",
       "      <td>82140.502</td>\n",
       "    </tr>\n",
       "    <tr>\n",
       "      <th>2</th>\n",
       "      <td>0.003472222</td>\n",
       "      <td>14509315</td>\n",
       "      <td>0.022800042</td>\n",
       "      <td>45987.132</td>\n",
       "      <td>0.264565</td>\n",
       "      <td>-2.856344</td>\n",
       "      <td>91727.244</td>\n",
       "      <td>82140.502</td>\n",
       "    </tr>\n",
       "    <tr>\n",
       "      <th>3</th>\n",
       "      <td>0.006944444</td>\n",
       "      <td>14510305</td>\n",
       "      <td>0.020091705</td>\n",
       "      <td>40525.217</td>\n",
       "      <td>0.273325</td>\n",
       "      <td>-2.517094</td>\n",
       "      <td>91727.244</td>\n",
       "      <td>82140.502</td>\n",
       "    </tr>\n",
       "    <tr>\n",
       "      <th>4</th>\n",
       "      <td>0.010416666</td>\n",
       "      <td>14511295</td>\n",
       "      <td>0.021106627</td>\n",
       "      <td>42572.683</td>\n",
       "      <td>0.284418</td>\n",
       "      <td>-2.644266</td>\n",
       "      <td>91727.244</td>\n",
       "      <td>82140.502</td>\n",
       "    </tr>\n",
       "  </tbody>\n",
       "</table>\n",
       "</div>"
      ],
      "text/plain": [
       "           #.t .A_ZP.Emission_CO2 .Aer_Anox_ZP.C(S_N2O)  \\\n",
       "0           #d                  g                  g/m3   \n",
       "1            0           14508324           0.046012819   \n",
       "2  0.003472222           14509315           0.022800042   \n",
       "3  0.006944444           14510305           0.020091705   \n",
       "4  0.010416666           14511295           0.021106627   \n",
       "\n",
       "  .Aer_Anox_ZP.FluxN2O_gas  .Aer_Anox_ZP.Kinetics(AnGrowthHeteroOnSaNO_N2O)  \\\n",
       "0                      g/d                                              NaN   \n",
       "1                92803.708                                         0.283327   \n",
       "2                45987.132                                         0.264565   \n",
       "3                40525.217                                         0.273325   \n",
       "4                42572.683                                         0.284418   \n",
       "\n",
       "   .Aer_Anox_ZP.Kinetics(StrippingN2O)  .Influent_Quality.Q_In  \\\n",
       "0                                  NaN                     NaN   \n",
       "1                            -5.764206               91727.244   \n",
       "2                            -2.856344               91727.244   \n",
       "3                            -2.517094               91727.244   \n",
       "4                            -2.644266               91727.244   \n",
       "\n",
       "   .array_effluent.Q_In  \n",
       "0                   NaN  \n",
       "1             82140.502  \n",
       "2             82140.502  \n",
       "3             82140.502  \n",
       "4             82140.502  "
      ]
     },
     "execution_count": 10,
     "metadata": {},
     "output_type": "execute_result"
    }
   ],
   "source": [
    "westOut.head()"
   ]
  },
  {
   "cell_type": "code",
   "execution_count": null,
   "metadata": {
    "collapsed": true
   },
   "outputs": [],
   "source": []
  }
 ],
 "metadata": {
  "anaconda-cloud": {},
  "kernelspec": {
   "display_name": "Python [default]",
   "language": "python",
   "name": "python2"
  },
  "language_info": {
   "codemirror_mode": {
    "name": "ipython",
    "version": 2
   },
   "file_extension": ".py",
   "mimetype": "text/x-python",
   "name": "python",
   "nbconvert_exporter": "python",
   "pygments_lexer": "ipython2",
   "version": "2.7.11"
  }
 },
 "nbformat": 4,
 "nbformat_minor": 1
}
